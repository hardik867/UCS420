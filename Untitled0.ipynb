{
  "nbformat": 4,
  "nbformat_minor": 0,
  "metadata": {
    "colab": {
      "provenance": []
    },
    "kernelspec": {
      "name": "python3",
      "display_name": "Python 3"
    },
    "language_info": {
      "name": "python"
    }
  },
  "cells": [
    {
      "cell_type": "code",
      "execution_count": 1,
      "metadata": {
        "colab": {
          "base_uri": "https://localhost:8080/"
        },
        "id": "DMvobTSYyyXx",
        "outputId": "68f9524c-a4f6-452a-e516-efacca68509d"
      },
      "outputs": [
        {
          "output_type": "stream",
          "name": "stdout",
          "text": [
            "After adding 200 and 300: [10, 20, 30, 40, 50, 60, 70, 80, 200, 300]\n",
            "After removing 10 and 30: [20, 40, 50, 60, 70, 80, 200, 300]\n",
            "Sorted in ascending order: [20, 40, 50, 60, 70, 80, 200, 300]\n",
            "Sorted in descending order: [300, 200, 80, 70, 60, 50, 40, 20]\n"
          ]
        }
      ],
      "source": [
        "\n",
        "L = [10, 20, 30, 40, 50, 60, 70, 80]\n",
        "\n",
        "\n",
        "L.append(200)\n",
        "L.append(300)\n",
        "print(\"After adding 200 and 300:\", L)\n",
        "\n",
        "\n",
        "L.remove(10)\n",
        "L.remove(30)\n",
        "print(\"After removing 10 and 30:\", L)\n",
        "\n",
        "\n",
        "L.sort()\n",
        "print(\"Sorted in ascending order:\", L)\n",
        "\n",
        "L.sort(reverse=True)\n",
        "print(\"Sorted in descending order:\", L)\n",
        "\n"
      ]
    },
    {
      "cell_type": "code",
      "source": [
        "\n",
        "scores = (45, 89.5, 76, 45.4, 89, 92, 58, 45)\n",
        "\n",
        "\n",
        "highest_score = max(scores)\n",
        "highest_score_index = scores.index(highest_score)\n",
        "print(f\"Highest score: {highest_score}, Index: {highest_score_index}\")\n",
        "\n",
        "\n",
        "lowest_score = min(scores)\n",
        "lowest_score_count = scores.count(lowest_score)\n",
        "print(f\"Lowest score: {lowest_score}, Count: {lowest_score_count}\")\n",
        "\n",
        "\n",
        "reversed_scores = list(reversed(scores))\n",
        "print(\"Reversed tuple as list:\", reversed_scores)\n",
        "\n",
        "\n",
        "user_input = float(input(\"Enter a score to check if it is present in the tuple: \"))\n",
        "if user_input in scores:\n",
        "    first_occurrence_index = scores.index(user_input)\n",
        "    print(f\"Score {user_input} is present at index {first_occurrence_index}.\")\n",
        "else:\n",
        "    print(f\"Score {user_input} is not present in the tuple.\")\n"
      ],
      "metadata": {
        "colab": {
          "base_uri": "https://localhost:8080/"
        },
        "id": "kIsS1zFzzUv4",
        "outputId": "9d866489-52ba-4649-e8f4-0224933fdb24"
      },
      "execution_count": 2,
      "outputs": [
        {
          "output_type": "stream",
          "name": "stdout",
          "text": [
            "Highest score: 92, Index: 5\n",
            "Lowest score: 45, Count: 2\n",
            "Reversed tuple as list: [45, 58, 92, 89, 45.4, 76, 89.5, 45]\n",
            "Enter a score to check if it is present in the tuple: 92\n",
            "Score 92.0 is present at index 5.\n"
          ]
        }
      ]
    },
    {
      "cell_type": "code",
      "source": [
        "import random\n",
        "import math\n",
        "\n",
        "\n",
        "random_numbers = [random.randint(100, 900) for _ in range(100)]\n",
        "\n",
        "\n",
        "def is_prime(num):\n",
        "    if num <= 1:\n",
        "        return False\n",
        "    for i in range(2, int(math.sqrt(num)) + 1):\n",
        "        if num % i == 0:\n",
        "            return False\n",
        "    return True\n",
        "\n",
        "\n",
        "odd_numbers = [num for num in random_numbers if num % 2 != 0]\n",
        "odd_count = len(odd_numbers)\n",
        "\n",
        "\n",
        "even_numbers = [num for num in random_numbers if num % 2 == 0]\n",
        "even_count = len(even_numbers)\n",
        "\n",
        "\n",
        "prime_numbers = [num for num in random_numbers if is_prime(num)]\n",
        "prime_count = len(prime_numbers)\n",
        "\n",
        "\n",
        "print(f\"Total odd numbers: {odd_count}\")\n",
        "print(f\"Total even numbers: {even_count}\")\n",
        "print(f\"Total prime numbers: {prime_count}\")\n"
      ],
      "metadata": {
        "colab": {
          "base_uri": "https://localhost:8080/"
        },
        "id": "RSk0HZfkzm66",
        "outputId": "c66b3b6f-926b-4dad-d0a1-2fe654b236e2"
      },
      "execution_count": 3,
      "outputs": [
        {
          "output_type": "stream",
          "name": "stdout",
          "text": [
            "Total odd numbers: 55\n",
            "Total even numbers: 45\n",
            "Total prime numbers: 21\n"
          ]
        }
      ]
    },
    {
      "cell_type": "code",
      "source": [
        "\n",
        "A = {34, 56, 78, 90}\n",
        "B = {78, 45, 90, 23}\n",
        "\n",
        "\n",
        "union_scores = A.union(B)\n",
        "print(f\"Unique scores (Union of A and B): {union_scores}\")\n",
        "\n",
        "\n",
        "common_scores = A.intersection(B)\n",
        "print(f\"Common scores (Intersection of A and B): {common_scores}\")\n",
        "\n",
        "\n",
        "exclusive_scores = A.symmetric_difference(B)\n",
        "print(f\"Exclusive scores (Symmetric difference of A and B): {exclusive_scores}\")\n",
        "\n",
        "\n",
        "is_subset_A_of_B = A.issubset(B)\n",
        "is_superset_B_of_A = B.issuperset(A)\n",
        "print(f\"Is team A's scores a subset of team B's scores? {is_subset_A_of_B}\")\n",
        "print(f\"Is team B's scores a superset of team A's scores? {is_superset_B_of_A}\")\n",
        "\n",
        "\n",
        "X = int(input(\"Enter a score to remove from set A: \"))\n",
        "if X in A:\n",
        "    A.remove(X)\n",
        "    print(f\"Score {X} removed from set A.\")\n",
        "else:\n",
        "    print(f\"Score {X} is not present in set A.\")\n"
      ],
      "metadata": {
        "colab": {
          "base_uri": "https://localhost:8080/"
        },
        "id": "7ZlOXbl7z4gJ",
        "outputId": "802d7ff1-1d1b-4a5d-f243-5f52bd4d9c8e"
      },
      "execution_count": 4,
      "outputs": [
        {
          "output_type": "stream",
          "name": "stdout",
          "text": [
            "Unique scores (Union of A and B): {34, 45, 78, 23, 56, 90}\n",
            "Common scores (Intersection of A and B): {90, 78}\n",
            "Exclusive scores (Symmetric difference of A and B): {34, 45, 23, 56}\n",
            "Is team A's scores a subset of team B's scores? False\n",
            "Is team B's scores a superset of team A's scores? False\n",
            "Enter a score to remove from set A: 34\n",
            "Score 34 removed from set A.\n"
          ]
        }
      ]
    },
    {
      "cell_type": "code",
      "source": [
        "\n",
        "sample_dict = {\n",
        "    \"name\": \"kelly\",\n",
        "    \"age\": 25,\n",
        "    \"salary\": 8000,\n",
        "    \"city\": \"New York\"\n",
        "}\n",
        "\n",
        "\n",
        "if \"city\" in sample_dict:\n",
        "    sample_dict[\"location\"] = sample_dict.pop(\"city\")\n",
        "\n",
        "\n",
        "print(\"Updated dictionary:\", sample_dict)\n"
      ],
      "metadata": {
        "colab": {
          "base_uri": "https://localhost:8080/"
        },
        "id": "hJtVtGoj0Lyl",
        "outputId": "18452b75-2b67-4219-f728-25409f984be8"
      },
      "execution_count": 6,
      "outputs": [
        {
          "output_type": "stream",
          "name": "stdout",
          "text": [
            "Updated dictionary: {'name': 'kelly', 'age': 25, 'salary': 8000, 'location': 'New York'}\n"
          ]
        }
      ]
    }
  ]
}