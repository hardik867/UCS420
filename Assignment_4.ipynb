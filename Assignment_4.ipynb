{
  "nbformat": 4,
  "nbformat_minor": 0,
  "metadata": {
    "colab": {
      "provenance": []
    },
    "kernelspec": {
      "name": "python3",
      "display_name": "Python 3"
    },
    "language_info": {
      "name": "python"
    }
  },
  "cells": [
    {
      "cell_type": "code",
      "execution_count": 1,
      "metadata": {
        "id": "pDUpE3SfRd8d"
      },
      "outputs": [],
      "source": [
        "import numpy as np"
      ]
    },
    {
      "cell_type": "markdown",
      "source": [
        "Q.1 Write a program to create a NumPy 1D-array with 5 elements and perform basic operations like:\n",
        "\n",
        "a) Addition of 2 in all the element\n",
        "\n",
        "b) Multiply 3 with all the elements\n",
        "\n",
        "c) Divide every element by 2"
      ],
      "metadata": {
        "id": "3J13zgJJSRXw"
      }
    },
    {
      "cell_type": "code",
      "source": [
        "arr1 = np.array([2,4,6,8,9])\n",
        "arr2 = arr1+2\n",
        "print(arr2)\n",
        "arr3 = arr1*3\n",
        "print(arr3)\n",
        "arr4 = arr1/2\n",
        "print(arr4)"
      ],
      "metadata": {
        "colab": {
          "base_uri": "https://localhost:8080/"
        },
        "id": "a8lRRNF2R6rZ",
        "outputId": "987c99ac-5381-419b-f143-7ee6be2c1701"
      },
      "execution_count": 5,
      "outputs": [
        {
          "output_type": "stream",
          "name": "stdout",
          "text": [
            "[ 4  6  8 10 11]\n",
            "[ 6 12 18 24 27]\n",
            "[1.  2.  3.  4.  4.5]\n"
          ]
        }
      ]
    },
    {
      "cell_type": "markdown",
      "source": [
        "Q.2 Questions on Basic NumPy Array:\n",
        "\n",
        "a) Reverse the NumPy array: arr = np.array([1, 2, 3, 6, 4, 5])"
      ],
      "metadata": {
        "id": "la_Wb2MdSZAi"
      }
    },
    {
      "cell_type": "code",
      "source": [
        "arr = np.array([1, 2, 3, 6, 4, 5])\n",
        "print(arr[::-1])"
      ],
      "metadata": {
        "colab": {
          "base_uri": "https://localhost:8080/"
        },
        "id": "B1tPV7aHSZnm",
        "outputId": "e0143713-6d9d-417a-8509-875f00325b10"
      },
      "execution_count": 6,
      "outputs": [
        {
          "output_type": "stream",
          "name": "stdout",
          "text": [
            "[5 4 6 3 2 1]\n"
          ]
        }
      ]
    },
    {
      "cell_type": "markdown",
      "source": [
        "Q.2\n",
        "\n",
        "b) Find the most frequent value and their indice(s) in the following arrays: i. x = np.array([1,2,3,4,5,1,2,1,1,1]) ii. y = np.array([1, 1, 1, 2, 3, 4, 2, 4, 3, 3, ])"
      ],
      "metadata": {
        "id": "aEVJ_olzSlul"
      }
    },
    {
      "cell_type": "code",
      "source": [
        "x = np.array([1,2,3,4,5,1,2,1,1,1])\n",
        "y = np.array([1, 1, 1, 2, 3, 4, 2, 4, 3, 3, ])\n",
        "elems, counts = np.unique(x, return_counts=True)\n",
        "print(elems)\n",
        "print(counts)\n",
        "print(f'Element with the most occurences : {elems[np.argmax(counts)]}')\n",
        "elemsY, countsY = np.unique(y, return_counts=True)\n",
        "print(elemsY)\n",
        "print(countsY)\n",
        "print(f'Element with the most occurences : {elems[np.argmax(counts)]}')"
      ],
      "metadata": {
        "colab": {
          "base_uri": "https://localhost:8080/"
        },
        "id": "xuxP_1M0SmIJ",
        "outputId": "ea481eeb-48d4-4576-fe05-c4b36648cb9c"
      },
      "execution_count": 7,
      "outputs": [
        {
          "output_type": "stream",
          "name": "stdout",
          "text": [
            "[1 2 3 4 5]\n",
            "[5 2 1 1 1]\n",
            "Element with the most occurences : 1\n",
            "[1 2 3 4]\n",
            "[3 2 3 2]\n",
            "Element with the most occurences : 1\n"
          ]
        }
      ]
    },
    {
      "cell_type": "markdown",
      "source": [
        "Q.3 For the given 2-D array arr=np.array([10, 20, 30], [40, 50, 60], [70, 80, 90]), access elements using row and column indices as follows:\n",
        "\n",
        "a) Access 1st row, 2nd column\n",
        "\n",
        "b) Access 3rd row, 1st column"
      ],
      "metadata": {
        "id": "r7n_ddX8SvgZ"
      }
    },
    {
      "cell_type": "code",
      "source": [
        "arr=np.array([[10, 20, 30], [40, 50, 60], [70, 80, 90]])\n",
        "print(arr[0,1])\n",
        "print(arr[2,0])"
      ],
      "metadata": {
        "colab": {
          "base_uri": "https://localhost:8080/"
        },
        "id": "MhQWEdXTSwHs",
        "outputId": "94ac7275-bca5-4ae7-d245-1ca488b98334"
      },
      "execution_count": 8,
      "outputs": [
        {
          "output_type": "stream",
          "name": "stdout",
          "text": [
            "20\n",
            "70\n"
          ]
        }
      ]
    },
    {
      "cell_type": "markdown",
      "source": [
        "Q.4 Write program to create an 1-D NumPy array named <<\\Your Name>> with evenly spaced 25 numbers from 10 to 100 using linspace().\n",
        "\n",
        "Print the dimensions of the array, shape, total elements, the data type of each element and total number of bytes consumed by the array.\n",
        "\n",
        "Find the transpose of this array using reshape() attribute.\n",
        "\n",
        "Can we do the same with T attribute?"
      ],
      "metadata": {
        "id": "wfOjE7WDS_xv"
      }
    },
    {
      "cell_type": "code",
      "source": [
        "HardikJindal= np.linspace(10,100,25)\n",
        "print(f'The array formed :{HardikJindal}')\n",
        "print(f'Dimensions :{HardikJindal.ndim}')\n",
        "print(f'Shape: {HardikJindal.shape}')\n",
        "print(f'Elements: {HardikJindal.size}')\n",
        "print(f'Data type :{HardikJindal.dtype}')\n",
        "print(f'Bytes per elements: {HardikJindal.itemsize}')\n",
        "print(f'Total bytes: {HardikJindal.itemsize * HardikJindal.size}')\n",
        "print(f'Reshaped :{HardikJindal.reshape(25,1)}')\n",
        "\n",
        "print(HardikJindal.reshape(25,1).T)\n",
        "# Since we made a 1-D array there is not any rows or columns and just one dimensional array\n",
        "# so transposing will not affect it in any way"
      ],
      "metadata": {
        "colab": {
          "base_uri": "https://localhost:8080/"
        },
        "id": "HCjGUOJOTN7h",
        "outputId": "ba88bd3f-efd0-499e-971f-a17e5e7fb425"
      },
      "execution_count": 9,
      "outputs": [
        {
          "output_type": "stream",
          "name": "stdout",
          "text": [
            "The array formed :[ 10.    13.75  17.5   21.25  25.    28.75  32.5   36.25  40.    43.75\n",
            "  47.5   51.25  55.    58.75  62.5   66.25  70.    73.75  77.5   81.25\n",
            "  85.    88.75  92.5   96.25 100.  ]\n",
            "Dimensions :1\n",
            "Shape: (25,)\n",
            "Elements: 25\n",
            "Data type :float64\n",
            "Bytes per elements: 8\n",
            "Total bytes: 200\n",
            "Reshaped :[[ 10.  ]\n",
            " [ 13.75]\n",
            " [ 17.5 ]\n",
            " [ 21.25]\n",
            " [ 25.  ]\n",
            " [ 28.75]\n",
            " [ 32.5 ]\n",
            " [ 36.25]\n",
            " [ 40.  ]\n",
            " [ 43.75]\n",
            " [ 47.5 ]\n",
            " [ 51.25]\n",
            " [ 55.  ]\n",
            " [ 58.75]\n",
            " [ 62.5 ]\n",
            " [ 66.25]\n",
            " [ 70.  ]\n",
            " [ 73.75]\n",
            " [ 77.5 ]\n",
            " [ 81.25]\n",
            " [ 85.  ]\n",
            " [ 88.75]\n",
            " [ 92.5 ]\n",
            " [ 96.25]\n",
            " [100.  ]]\n",
            "[[ 10.    13.75  17.5   21.25  25.    28.75  32.5   36.25  40.    43.75\n",
            "   47.5   51.25  55.    58.75  62.5   66.25  70.    73.75  77.5   81.25\n",
            "   85.    88.75  92.5   96.25 100.  ]]\n"
          ]
        }
      ]
    },
    {
      "cell_type": "markdown",
      "source": [
        "Q5. Create a 2-D Array of three rows and four columns, named ucs420_<\\your_name>> with following values – 10, 20, 30, 40, 50, 60, 70, 80, 90, 15, 20, 35. Compute the mean, median, max, min, unique elements.\n",
        "\n",
        "Reshape the array to four rows and three columns and name it as reshaped_ ucs420_<\\your_name>>. Resize the array to two rows and three columns and name it as resized_ ucs420_<\\your_name>>."
      ],
      "metadata": {
        "id": "OSAIgHD7T6lc"
      }
    },
    {
      "cell_type": "code",
      "source": [
        "ucs420_HardikJindal = np.array([10, 20, 30, 40, 50, 60, 70, 80, 90, 15, 20, 35])\n",
        "ucs420_HardikJindal = ucs420_HardikJindal.reshape(3,4)\n",
        "print(f'Original :{ucs420_HardikJindal}')\n",
        "\n",
        "print(f'Mean: {np.mean(ucs420_HardikJindal)}')\n",
        "print(f'Median: {np.median(ucs420_HardikJindal)}')\n",
        "print(f'Max: {np.max(ucs420_HardikJindal)}')\n",
        "print(f'Min: {np.min(ucs420_HardikJindal)}')\n",
        "\n",
        "x,y=np.unique(ucs420_HardikJindal, return_counts= True)\n",
        "print(f'Unique Elements: {x}')\n",
        "print(f'Their count: {y}')\n",
        "\n",
        "reshaped_ucs420_Hardik = ucs420_HardikJindal.reshape(4,3)\n",
        "print(f'Reshaped : {reshaped_ucs420_Hardik}')\n",
        "resized_ucs420_HardikJindal = ucs420_HardikJindal.copy()\n",
        "resized_ucs420_HardikJindal.resize(2, 3)\n",
        "print(f'Resized: {resized_ucs420_HardikJindal}')"
      ],
      "metadata": {
        "colab": {
          "base_uri": "https://localhost:8080/"
        },
        "id": "xJ7sHvN4T64k",
        "outputId": "f3aca65a-bc31-4e1e-b569-05f506177e06"
      },
      "execution_count": 10,
      "outputs": [
        {
          "output_type": "stream",
          "name": "stdout",
          "text": [
            "Original :[[10 20 30 40]\n",
            " [50 60 70 80]\n",
            " [90 15 20 35]]\n",
            "Mean: 43.333333333333336\n",
            "Median: 37.5\n",
            "Max: 90\n",
            "Min: 10\n",
            "Unique Elements: [10 15 20 30 35 40 50 60 70 80 90]\n",
            "Their count: [1 1 2 1 1 1 1 1 1 1 1]\n",
            "Reshaped : [[10 20 30]\n",
            " [40 50 60]\n",
            " [70 80 90]\n",
            " [15 20 35]]\n",
            "Resized: [[10 20 30]\n",
            " [40 50 60]]\n"
          ]
        }
      ]
    }
  ]
}