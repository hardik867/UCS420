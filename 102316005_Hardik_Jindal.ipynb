{
  "nbformat": 4,
  "nbformat_minor": 0,
  "metadata": {
    "colab": {
      "provenance": []
    },
    "kernelspec": {
      "name": "python3",
      "display_name": "Python 3"
    },
    "language_info": {
      "name": "python"
    }
  },
  "cells": [
    {
      "cell_type": "code",
      "execution_count": null,
      "metadata": {
        "colab": {
          "base_uri": "https://localhost:8080/"
        },
        "id": "IwXz7Db0FFvZ",
        "outputId": "24dd8167-48ba-4496-fd87-1b2ad4325fe4"
      },
      "outputs": [
        {
          "output_type": "stream",
          "name": "stdout",
          "text": [
            "Hardik Jindal\n",
            "Hardik Jindal\n",
            "Hardik Jindal\n"
          ]
        }
      ],
      "source": [
        "print(\"Hardik Jindal\") ;\n",
        "print(\"Hardik Jindal\") ;\n",
        "print(\"Hardik Jindal\") ;\n"
      ]
    },
    {
      "cell_type": "code",
      "source": [
        "a = 50 ;\n",
        "b = 60 ;\n",
        "c = 90 ;\n",
        "print(a+b+c) ;"
      ],
      "metadata": {
        "colab": {
          "base_uri": "https://localhost:8080/"
        },
        "id": "MIxZH_36GEFc",
        "outputId": "132dc521-82b8-4647-a3ed-536838f178db"
      },
      "execution_count": null,
      "outputs": [
        {
          "output_type": "stream",
          "name": "stdout",
          "text": [
            "200\n"
          ]
        }
      ]
    },
    {
      "cell_type": "code",
      "source": [
        "print(\"My\"+\"Name\"+\"is\") ;"
      ],
      "metadata": {
        "colab": {
          "base_uri": "https://localhost:8080/"
        },
        "id": "O07HTNR8GIf-",
        "outputId": "5440c8af-5554-4353-bf35-cb6bd9dc0f12"
      },
      "execution_count": null,
      "outputs": [
        {
          "output_type": "stream",
          "name": "stdout",
          "text": [
            "MyNameis\n"
          ]
        }
      ]
    },
    {
      "cell_type": "code",
      "source": [
        "for i in range(1,11):\n",
        "    print(f\"7 x {i} ={i*7}\") ;\n",
        "\n",
        "print(\"\\n\")\n",
        "for i in range(1,11):\n",
        "    print(f\"11 x {i} ={i*11}\") ;"
      ],
      "metadata": {
        "colab": {
          "base_uri": "https://localhost:8080/"
        },
        "id": "dzSfU5UgGRh2",
        "outputId": "da45ae55-f645-4875-8c35-789f3df74565"
      },
      "execution_count": null,
      "outputs": [
        {
          "output_type": "stream",
          "name": "stdout",
          "text": [
            "7 x 1 =7\n",
            "7 x 2 =14\n",
            "7 x 3 =21\n",
            "7 x 4 =28\n",
            "7 x 5 =35\n",
            "7 x 6 =42\n",
            "7 x 7 =49\n",
            "7 x 8 =56\n",
            "7 x 9 =63\n",
            "7 x 10 =70\n",
            "\n",
            "\n",
            "11 x 1 =11\n",
            "11 x 2 =22\n",
            "11 x 3 =33\n",
            "11 x 4 =44\n",
            "11 x 5 =55\n",
            "11 x 6 =66\n",
            "11 x 7 =77\n",
            "11 x 8 =88\n",
            "11 x 9 =99\n",
            "11 x 10 =110\n"
          ]
        }
      ]
    },
    {
      "cell_type": "code",
      "source": [
        "x=int(input(\"Enter the number:\")) ;\n",
        "\n",
        "for i in range(1,11):\n",
        "    print(f\"{x} x {i} ={i*x}\") ;"
      ],
      "metadata": {
        "colab": {
          "base_uri": "https://localhost:8080/"
        },
        "id": "r98XL_mfGXh7",
        "outputId": "4479ca8a-fe13-4e98-dfd4-554fa5787820"
      },
      "execution_count": null,
      "outputs": [
        {
          "output_type": "stream",
          "name": "stdout",
          "text": [
            "Enter the number:8\n",
            "8 x 1 =8\n",
            "8 x 2 =16\n",
            "8 x 3 =24\n",
            "8 x 4 =32\n",
            "8 x 5 =40\n",
            "8 x 6 =48\n",
            "8 x 7 =56\n",
            "8 x 8 =64\n",
            "8 x 9 =72\n",
            "8 x 10 =80\n"
          ]
        }
      ]
    },
    {
      "cell_type": "code",
      "source": [
        "x=int(input(\"Enter the number:\")) ;\n",
        "sum=0\n",
        "for i in range(1,x+1):\n",
        "    sum+=i\n",
        "\n",
        "print(sum) ;"
      ],
      "metadata": {
        "colab": {
          "base_uri": "https://localhost:8080/"
        },
        "id": "i1fcHyg2Ggta",
        "outputId": "c00d5577-fdd9-4ab3-bdf8-7f24646e409f"
      },
      "execution_count": null,
      "outputs": [
        {
          "output_type": "stream",
          "name": "stdout",
          "text": [
            "Enter the number:11\n",
            "66\n"
          ]
        }
      ]
    },
    {
      "cell_type": "code",
      "source": [
        "a=int(input(\"Enter the first number:\")) ;\n",
        "b=int(input(\"Enter the second number:\")) ;\n",
        "c=int(input(\"Enter the third number:\")) ;\n",
        "print(max(a,b,c)) ;"
      ],
      "metadata": {
        "colab": {
          "base_uri": "https://localhost:8080/"
        },
        "id": "CZLrJQfMGoQu",
        "outputId": "15731726-2f3c-471f-ff02-65770b85ed5c"
      },
      "execution_count": null,
      "outputs": [
        {
          "output_type": "stream",
          "name": "stdout",
          "text": [
            "Enter the first number:45\n",
            "Enter the second number:60\n",
            "Enter the third number:80\n",
            "80\n"
          ]
        }
      ]
    },
    {
      "cell_type": "code",
      "source": [
        "n=int(input(\"Enter the number:\")) ;\n",
        "sum=0 ;\n",
        "for i in range(1,n+1):\n",
        "    if(i%7==0 and i%9==0):\n",
        "        sum+=i\n",
        "\n",
        "print(sum) ;"
      ],
      "metadata": {
        "colab": {
          "base_uri": "https://localhost:8080/"
        },
        "id": "ii_YZrMwGuYr",
        "outputId": "195b35c5-918c-4f70-a468-a9524f04b043"
      },
      "execution_count": null,
      "outputs": [
        {
          "output_type": "stream",
          "name": "stdout",
          "text": [
            "Enter the number:12\n",
            "0\n"
          ]
        }
      ]
    },
    {
      "cell_type": "code",
      "source": [
        "n=int(input(\"Enter the number till which you want to sum prime numbers\"))\n",
        "def isPrime(x):\n",
        "    if(x<2):\n",
        "     return False ;\n",
        "\n",
        "    for i in range(2,int(x/2)+1):\n",
        "     if(x%i==0):\n",
        "      return False ;\n",
        "\n",
        "    return True ;\n",
        "\n",
        "\n",
        "\n",
        "\n",
        "sum=0\n",
        "for i in range(2,n+1):\n",
        "    if(isPrime(i)):\n",
        "        sum+=i\n",
        "\n",
        "print(sum) ;"
      ],
      "metadata": {
        "colab": {
          "base_uri": "https://localhost:8080/"
        },
        "id": "be3tGngsG1YS",
        "outputId": "4ed19896-6b10-4a2d-eb81-e7b52da3f873"
      },
      "execution_count": null,
      "outputs": [
        {
          "output_type": "stream",
          "name": "stdout",
          "text": [
            "Enter the number till which you want to print prime numbers13\n",
            "41\n"
          ]
        }
      ]
    },
    {
      "cell_type": "code",
      "source": [
        "def oddAdder(n):\n",
        "    sum=0\n",
        "    for i in range(n+1):\n",
        "        if(i%2!=0):\n",
        "            sum+=i\n",
        "    return sum\n",
        "result = oddAdder(11)\n",
        "print(result)\n"
      ],
      "metadata": {
        "colab": {
          "base_uri": "https://localhost:8080/"
        },
        "id": "h-sldpg6Hgqy",
        "outputId": "7a9d77dd-8411-4460-a7d4-b4ab51d5ea98"
      },
      "execution_count": null,
      "outputs": [
        {
          "output_type": "stream",
          "name": "stdout",
          "text": [
            "36\n"
          ]
        }
      ]
    },
    {
      "cell_type": "code",
      "source": [
        "n=int(input(\"Enter the number:\")) ;\n",
        "def AddOdd(n):\n",
        "    sum=0\n",
        "    for i in range(1,n+1):\n",
        "        if(i%2!=0):\n",
        "         sum+=i\n",
        "    return sum ;\n",
        "\n",
        "print(f\"The sum of first {n} odd numbers {AddOdd(n)}\") ;\n"
      ],
      "metadata": {
        "colab": {
          "base_uri": "https://localhost:8080/"
        },
        "id": "p2qszJI-HlGI",
        "outputId": "534ab19e-28b1-47df-a357-030a46586b11"
      },
      "execution_count": null,
      "outputs": [
        {
          "output_type": "stream",
          "name": "stdout",
          "text": [
            "Enter the number:17\n",
            "The sum of first 17 odd numbers 81\n"
          ]
        }
      ]
    }
  ]
}