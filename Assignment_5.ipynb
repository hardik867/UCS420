{
  "nbformat": 4,
  "nbformat_minor": 0,
  "metadata": {
    "colab": {
      "provenance": []
    },
    "kernelspec": {
      "name": "python3",
      "display_name": "Python 3"
    },
    "language_info": {
      "name": "python"
    }
  },
  "cells": [
    {
      "cell_type": "code",
      "execution_count": 1,
      "metadata": {
        "id": "c3_L2IBmztb1"
      },
      "outputs": [],
      "source": [
        "\n",
        "import numpy as np\n"
      ]
    },
    {
      "cell_type": "markdown",
      "source": [
        "Q.1 For the array gfg = np.matrix('[4, 1, 9; 12, 3, 1; 4, 5, 6]'),\n",
        "\n",
        "Find\n",
        "\n",
        "i. Sum of all elements\n",
        "\n",
        "ii. Sum of all elements row-wise\n",
        "\n",
        "iii. Sum of all elements column-wise"
      ],
      "metadata": {
        "id": "OtCxSirtz4II"
      }
    },
    {
      "cell_type": "code",
      "source": [
        "\n",
        "gfg = np.matrix('[4, 1, 9; 12, 3, 1; 4, 5, 6]')\n",
        "print(gfg)\n",
        "sum1 = np.sum(gfg)\n",
        "print(sum1)\n",
        "sum2 = np.sum(gfg,axis =1) #row\n",
        "print(sum2)\n",
        "sum3 = np.sum(gfg,axis =0) #col\n",
        "print(sum3)\n"
      ],
      "metadata": {
        "colab": {
          "base_uri": "https://localhost:8080/"
        },
        "id": "HxQ3O1Cgz6pz",
        "outputId": "23a13b31-f10d-4907-f6cb-66b509decec6"
      },
      "execution_count": 2,
      "outputs": [
        {
          "output_type": "stream",
          "name": "stdout",
          "text": [
            "[[ 4  1  9]\n",
            " [12  3  1]\n",
            " [ 4  5  6]]\n",
            "45\n",
            "[[14]\n",
            " [16]\n",
            " [15]]\n",
            "[[20  9 16]]\n"
          ]
        }
      ]
    },
    {
      "cell_type": "markdown",
      "source": [
        "\n",
        "Q.2 (a)For the array: array = np.array([10, 52, 62, 16, 16, 54, 453]), find\n",
        "\n",
        "i. Sorted array\n",
        "\n",
        "ii. Indices of sorted array\n",
        "\n",
        "iii. 4 smallest elements\n",
        "\n",
        "iv. 5 largest elements\n"
      ],
      "metadata": {
        "id": "DVqznvoJ0DNW"
      }
    },
    {
      "cell_type": "code",
      "source": [
        "array = np.array([10, 52, 62, 16, 16, 54, 453])\n",
        "sorted = np.sort(array)\n",
        "print(sorted)\n",
        "small = np.sort(array)[:4]\n",
        "print(small)\n",
        "large = np.sort(array)[-5:]\n",
        "print(large)\n",
        "# print index after sorting\n",
        "indices = np.argsort(array)\n",
        "print(indices)\n",
        ""
      ],
      "metadata": {
        "colab": {
          "base_uri": "https://localhost:8080/"
        },
        "id": "zYNaqilS0GTP",
        "outputId": "3a4a07d0-b434-4520-af99-4aff10e9403c"
      },
      "execution_count": 3,
      "outputs": [
        {
          "output_type": "stream",
          "name": "stdout",
          "text": [
            "[ 10  16  16  52  54  62 453]\n",
            "[10 16 16 52]\n",
            "[ 16  52  54  62 453]\n",
            "[0 3 4 1 5 2 6]\n"
          ]
        }
      ]
    },
    {
      "cell_type": "markdown",
      "source": [
        "(b) For the array: array = np.array([1.0, 1.2, 2.2, 2.0, 3.0, 2.0]), find\n",
        "\n",
        "i. Integer elements only\n",
        "\n",
        "ii. Float elements only"
      ],
      "metadata": {
        "id": "EAt7OcNe0Res"
      }
    },
    {
      "cell_type": "code",
      "source": [
        "\n",
        "array = np.array([1.0, 1.2, 2.2, 2.0, 3.0, 2.0])\n",
        "integer_elements = array[array == array.astype(int)]\n",
        "print(\"Integer only:\",integer_elements)\n",
        "float_elements = array[array != array.astype(int)]\n",
        "print(\"Float only:\",float_elements)"
      ],
      "metadata": {
        "colab": {
          "base_uri": "https://localhost:8080/"
        },
        "id": "vkqRCqmy0W17",
        "outputId": "88b9020a-8b03-4539-dc91-c71d26e15228"
      },
      "execution_count": 4,
      "outputs": [
        {
          "output_type": "stream",
          "name": "stdout",
          "text": [
            "Integer only: [1. 2. 3. 2.]\n",
            "Float only: [1.2 2.2]\n"
          ]
        }
      ]
    },
    {
      "cell_type": "markdown",
      "source": [
        "Q.3 You are given a weekly sales dataset and need to perform various operations using NumPy broadcasting.\n",
        "\n",
        "a) Generate your unique sales dataset:  Take the sum of the ASCII values of the initials of your first and last name. Call this value X.\n",
        "\n",
        "(If your initials are A B → ASCII sum = 65 + 66 = 131 → sales = [131, 181, 231, 281, 331].)\n",
        "\n",
        " Create a NumPy array sales with values [X, X+50, X+100, X+150, X+200]."
      ],
      "metadata": {
        "id": "5hVFMFWz0h11"
      }
    },
    {
      "cell_type": "code",
      "source": [
        "X = ord('A')+ord('G')\n",
        "sales = np.array([X, X+50, X+100, X+150, X+200])\n",
        "print(sales)"
      ],
      "metadata": {
        "colab": {
          "base_uri": "https://localhost:8080/"
        },
        "id": "Z2Z7uyVb0jBz",
        "outputId": "78a9f42c-7d12-4657-95f7-61bad3fc3558"
      },
      "execution_count": 5,
      "outputs": [
        {
          "output_type": "stream",
          "name": "stdout",
          "text": [
            "[136 186 236 286 336]\n"
          ]
        }
      ]
    },
    {
      "cell_type": "markdown",
      "source": [
        "b) Compute your personalized tax rate as ((X % 5) + 5) / 100.  Use broadcasting to apply this tax rate to each sales value."
      ],
      "metadata": {
        "id": "qO_SYHYR0nV_"
      }
    },
    {
      "cell_type": "code",
      "source": [
        "\n",
        "tax_rate =  ((X%5)+5)/100\n",
        "print(tax_rate)\n",
        "sales_taxed = sales*(1+tax_rate)\n",
        "print(sales_taxed)"
      ],
      "metadata": {
        "colab": {
          "base_uri": "https://localhost:8080/"
        },
        "id": "g30M6jz003Pc",
        "outputId": "2919ad91-6fe5-41f7-edce-d8510f5a6426"
      },
      "execution_count": 6,
      "outputs": [
        {
          "output_type": "stream",
          "name": "stdout",
          "text": [
            "0.06\n",
            "[144.16 197.16 250.16 303.16 356.16]\n"
          ]
        }
      ]
    },
    {
      "cell_type": "markdown",
      "source": [
        "c) Adjust sales based on discount:\n",
        "\n",
        "If sales < X+100, apply a 5% discount.\n",
        "\n",
        "If sales >= X+100, apply a 10% discount.\n",
        "\n",
        "[129.2 176.7 212.4 257.4 302.4]\n",
        "d) Expand sales data for multiple weeks:\n",
        "\n",
        "Create a 3×5 matrix representing three weeks of sales by stacking sales three times using broadcasting.\n",
        "\n",
        "Increase sales by 2% per week using element-wise broadcasting."
      ],
      "metadata": {
        "id": "lrRm3UHl07zW"
      }
    },
    {
      "cell_type": "code",
      "source": [
        "sale_matr = np.tile(sales, (3,1))\n",
        "# 3 rows and 1 colm for the array\n",
        "print(f\"The matrix{sale_matr}\")\n",
        "\n",
        "weeks = np.arange(3) #[0 1 2]\n",
        "# grow will be multiplied again 3rd week for 2nd time, so first week -> 0 times, then 1st time and then again for 2nd time\n",
        "print(weeks)\n",
        "weeks = weeks.reshape(3,1)\n",
        "grow  = 1.02**weeks # [ [1.    ]\n",
        "                      #   [1.02  ]\n",
        "                      #   [1.0404] ]\n",
        "\n",
        "print(grow)\n",
        "sale_matr = sale_matr * grow\n",
        "print(sale_matr)\n",
        ""
      ],
      "metadata": {
        "colab": {
          "base_uri": "https://localhost:8080/"
        },
        "id": "6xzZxT0C1ITT",
        "outputId": "d4bce14b-d333-4ead-dfcb-2ad973351547"
      },
      "execution_count": 7,
      "outputs": [
        {
          "output_type": "stream",
          "name": "stdout",
          "text": [
            "The matrix[[136 186 236 286 336]\n",
            " [136 186 236 286 336]\n",
            " [136 186 236 286 336]]\n",
            "[0 1 2]\n",
            "[[1.    ]\n",
            " [1.02  ]\n",
            " [1.0404]]\n",
            "[[136.     186.     236.     286.     336.    ]\n",
            " [138.72   189.72   240.72   291.72   342.72  ]\n",
            " [141.4944 193.5144 245.5344 297.5544 349.5744]]\n"
          ]
        }
      ]
    },
    {
      "cell_type": "markdown",
      "source": [
        "Q4. Generate x values using np.linspace() from -10 to 10 with 100 points. Use each function from the list below and compute y values using NumPy:\n",
        "\n",
        " Y = x^2\n",
        "\n",
        " Y = sin(x)\n",
        "\n",
        " Y = e^x\n",
        "\n",
        " Y = log(|x| + 1)\n",
        "\n",
        "Plot the chosen function using Matplotlib. Add title, labels, and grid for clarity."
      ],
      "metadata": {
        "id": "9H8XUfAp1SZ4"
      }
    },
    {
      "cell_type": "code",
      "source": [
        "\n",
        "X = np.linspace(-10, 10,100)\n",
        "print(f\"X array {X}\")\n",
        "Y1 = np.power(X, 2)\n",
        "Y2 = np.sin(X)\n",
        "Y3 = np.exp(X)\n",
        "Y4 = np.log(np.abs(X) + 1)"
      ],
      "metadata": {
        "colab": {
          "base_uri": "https://localhost:8080/"
        },
        "id": "zNhX3TWV1aHA",
        "outputId": "61ade151-65f6-4e93-8b0e-ab2a9ac443ba"
      },
      "execution_count": 8,
      "outputs": [
        {
          "output_type": "stream",
          "name": "stdout",
          "text": [
            "X array [-10.          -9.7979798   -9.5959596   -9.39393939  -9.19191919\n",
            "  -8.98989899  -8.78787879  -8.58585859  -8.38383838  -8.18181818\n",
            "  -7.97979798  -7.77777778  -7.57575758  -7.37373737  -7.17171717\n",
            "  -6.96969697  -6.76767677  -6.56565657  -6.36363636  -6.16161616\n",
            "  -5.95959596  -5.75757576  -5.55555556  -5.35353535  -5.15151515\n",
            "  -4.94949495  -4.74747475  -4.54545455  -4.34343434  -4.14141414\n",
            "  -3.93939394  -3.73737374  -3.53535354  -3.33333333  -3.13131313\n",
            "  -2.92929293  -2.72727273  -2.52525253  -2.32323232  -2.12121212\n",
            "  -1.91919192  -1.71717172  -1.51515152  -1.31313131  -1.11111111\n",
            "  -0.90909091  -0.70707071  -0.50505051  -0.3030303   -0.1010101\n",
            "   0.1010101    0.3030303    0.50505051   0.70707071   0.90909091\n",
            "   1.11111111   1.31313131   1.51515152   1.71717172   1.91919192\n",
            "   2.12121212   2.32323232   2.52525253   2.72727273   2.92929293\n",
            "   3.13131313   3.33333333   3.53535354   3.73737374   3.93939394\n",
            "   4.14141414   4.34343434   4.54545455   4.74747475   4.94949495\n",
            "   5.15151515   5.35353535   5.55555556   5.75757576   5.95959596\n",
            "   6.16161616   6.36363636   6.56565657   6.76767677   6.96969697\n",
            "   7.17171717   7.37373737   7.57575758   7.77777778   7.97979798\n",
            "   8.18181818   8.38383838   8.58585859   8.78787879   8.98989899\n",
            "   9.19191919   9.39393939   9.5959596    9.7979798   10.        ]\n"
          ]
        }
      ]
    },
    {
      "cell_type": "code",
      "source": [
        "\n",
        "import matplotlib.pyplot as plt\n",
        "plt.figure(figsize=(10, 6))\n",
        "\n",
        "plt.plot(X, Y1, label=r'', color='b')\n",
        "# r for raw str-> \\ is literal backslash and not escape char\n",
        "#  for math string mode\n",
        "plt.plot(X, Y2, label=r'', color='g')\n",
        "plt.plot(X, Y3, label=r'', color='r')\n",
        "plt.plot(X, Y4, label=r'', color='m')\n",
        "# \\sin, \\log specifing LaTeX that \"sin\" is mathematical fn\n",
        "\n",
        "plt.title(\"Plots of Different Mathematical Functions\")\n",
        "plt.xlabel(\"X values\")\n",
        "plt.ylabel(\"Y values\")\n",
        "plt.legend()\n",
        "plt.grid(True)\n",
        "\n",
        "plt.show()\n",
        ""
      ],
      "metadata": {
        "colab": {
          "base_uri": "https://localhost:8080/",
          "height": 620
        },
        "id": "__Yj3yTN1mT_",
        "outputId": "6a0bc3f7-e2f1-4b6f-f884-901208b01356"
      },
      "execution_count": 9,
      "outputs": [
        {
          "output_type": "stream",
          "name": "stderr",
          "text": [
            "<ipython-input-9-b1b1a87457b2>:15: UserWarning: No artists with labels found to put in legend.  Note that artists whose label start with an underscore are ignored when legend() is called with no argument.\n",
            "  plt.legend()\n"
          ]
        },
        {
          "output_type": "display_data",
          "data": {
            "text/plain": [
              "<Figure size 1000x600 with 1 Axes>"
            ],
            "image/png": "[encoded data removed]"
          },
          "metadata": {}
        }
      ]
    }
  ]
}